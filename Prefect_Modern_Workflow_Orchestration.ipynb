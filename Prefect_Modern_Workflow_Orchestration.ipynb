{
  "nbformat": 4,
  "nbformat_minor": 0,
  "metadata": {
    "colab": {
      "provenance": [],
      "authorship_tag": "ABX9TyPLwGRJ88FuoAaX8U08MkCK"
    },
    "kernelspec": {
      "name": "python3",
      "display_name": "Python 3"
    },
    "language_info": {
      "name": "python"
    }
  },
  "cells": [
    {
      "cell_type": "markdown",
      "source": [
        "[Reference](https://medium.com/@rootkibet/prefect-modern-workflow-orchestration-1c5c9fb6f7bd)"
      ],
      "metadata": {
        "id": "kI70L0iwNml-"
      }
    },
    {
      "cell_type": "code",
      "execution_count": 1,
      "metadata": {
        "colab": {
          "base_uri": "https://localhost:8080/"
        },
        "id": "Y50C9gKeNcKl",
        "outputId": "bfd4dc88-3d9f-4db0-fd41-b8f73a8c90dc"
      },
      "outputs": [
        {
          "output_type": "stream",
          "name": "stdout",
          "text": [
            "Collecting prefect\n",
            "  Downloading prefect-2.11.4-py3-none-any.whl (2.5 MB)\n",
            "\u001b[2K     \u001b[90m━━━━━━━━━━━━━━━━━━━━━━━━━━━━━━━━━━━━━━━━\u001b[0m \u001b[32m2.5/2.5 MB\u001b[0m \u001b[31m9.3 MB/s\u001b[0m eta \u001b[36m0:00:00\u001b[0m\n",
            "\u001b[?25hCollecting aiosqlite>=0.17.0 (from prefect)\n",
            "  Downloading aiosqlite-0.19.0-py3-none-any.whl (15 kB)\n",
            "Collecting alembic>=1.7.5 (from prefect)\n",
            "  Downloading alembic-1.11.3-py3-none-any.whl (225 kB)\n",
            "\u001b[2K     \u001b[90m━━━━━━━━━━━━━━━━━━━━━━━━━━━━━━━━━━━━━━\u001b[0m \u001b[32m225.4/225.4 kB\u001b[0m \u001b[31m10.4 MB/s\u001b[0m eta \u001b[36m0:00:00\u001b[0m\n",
            "\u001b[?25hRequirement already satisfied: anyio>=3.4.0 in /usr/local/lib/python3.10/dist-packages (from prefect) (3.7.1)\n",
            "Collecting apprise>=1.1.0 (from prefect)\n",
            "  Downloading apprise-1.4.5-py3-none-any.whl (1.2 MB)\n",
            "\u001b[2K     \u001b[90m━━━━━━━━━━━━━━━━━━━━━━━━━━━━━━━━━━━━━━━━\u001b[0m \u001b[32m1.2/1.2 MB\u001b[0m \u001b[31m16.0 MB/s\u001b[0m eta \u001b[36m0:00:00\u001b[0m\n",
            "\u001b[?25hCollecting asgi-lifespan>=1.0 (from prefect)\n",
            "  Downloading asgi_lifespan-2.1.0-py3-none-any.whl (10 kB)\n",
            "Collecting asyncpg>=0.23 (from prefect)\n",
            "  Downloading asyncpg-0.28.0-cp310-cp310-manylinux_2_17_x86_64.manylinux2014_x86_64.whl (2.6 MB)\n",
            "\u001b[2K     \u001b[90m━━━━━━━━━━━━━━━━━━━━━━━━━━━━━━━━━━━━━━━━\u001b[0m \u001b[32m2.6/2.6 MB\u001b[0m \u001b[31m22.3 MB/s\u001b[0m eta \u001b[36m0:00:00\u001b[0m\n",
            "\u001b[?25hRequirement already satisfied: click<8.2,>=8.0 in /usr/local/lib/python3.10/dist-packages (from prefect) (8.1.6)\n",
            "Requirement already satisfied: cloudpickle>=2.0 in /usr/local/lib/python3.10/dist-packages (from prefect) (2.2.1)\n",
            "Collecting coolname>=1.0.4 (from prefect)\n",
            "  Downloading coolname-2.2.0-py2.py3-none-any.whl (37 kB)\n",
            "Collecting croniter>=1.0.12 (from prefect)\n",
            "  Downloading croniter-1.4.1-py2.py3-none-any.whl (19 kB)\n",
            "Requirement already satisfied: cryptography>=36.0.1 in /usr/local/lib/python3.10/dist-packages (from prefect) (41.0.3)\n",
            "Collecting dateparser>=1.1.1 (from prefect)\n",
            "  Downloading dateparser-1.1.8-py2.py3-none-any.whl (293 kB)\n",
            "\u001b[2K     \u001b[90m━━━━━━━━━━━━━━━━━━━━━━━━━━━━━━━━━━━━━━\u001b[0m \u001b[32m293.8/293.8 kB\u001b[0m \u001b[31m27.8 MB/s\u001b[0m eta \u001b[36m0:00:00\u001b[0m\n",
            "\u001b[?25hCollecting docker>=4.0 (from prefect)\n",
            "  Downloading docker-6.1.3-py3-none-any.whl (148 kB)\n",
            "\u001b[2K     \u001b[90m━━━━━━━━━━━━━━━━━━━━━━━━━━━━━━━━━━━━━━\u001b[0m \u001b[32m148.1/148.1 kB\u001b[0m \u001b[31m16.3 MB/s\u001b[0m eta \u001b[36m0:00:00\u001b[0m\n",
            "\u001b[?25hCollecting fastapi>=0.93 (from prefect)\n",
            "  Downloading fastapi-0.101.1-py3-none-any.whl (65 kB)\n",
            "\u001b[2K     \u001b[90m━━━━━━━━━━━━━━━━━━━━━━━━━━━━━━━━━━━━━━━━\u001b[0m \u001b[32m65.8/65.8 kB\u001b[0m \u001b[31m7.8 MB/s\u001b[0m eta \u001b[36m0:00:00\u001b[0m\n",
            "\u001b[?25hRequirement already satisfied: fsspec>=2022.5.0 in /usr/local/lib/python3.10/dist-packages (from prefect) (2023.6.0)\n",
            "Requirement already satisfied: graphviz>=0.20.1 in /usr/local/lib/python3.10/dist-packages (from prefect) (0.20.1)\n",
            "Collecting griffe>=0.20.0 (from prefect)\n",
            "  Downloading griffe-0.33.0-py3-none-any.whl (103 kB)\n",
            "\u001b[2K     \u001b[90m━━━━━━━━━━━━━━━━━━━━━━━━━━━━━━━━━━━━━━\u001b[0m \u001b[32m103.1/103.1 kB\u001b[0m \u001b[31m13.2 MB/s\u001b[0m eta \u001b[36m0:00:00\u001b[0m\n",
            "\u001b[?25hCollecting httpx[http2]!=0.23.2,>=0.23 (from prefect)\n",
            "  Downloading httpx-0.24.1-py3-none-any.whl (75 kB)\n",
            "\u001b[2K     \u001b[90m━━━━━━━━━━━━━━━━━━━━━━━━━━━━━━━━━━━━━━━━\u001b[0m \u001b[32m75.4/75.4 kB\u001b[0m \u001b[31m9.1 MB/s\u001b[0m eta \u001b[36m0:00:00\u001b[0m\n",
            "\u001b[?25hRequirement already satisfied: jinja2>=3.0.0 in /usr/local/lib/python3.10/dist-packages (from prefect) (3.1.2)\n",
            "Collecting jsonpatch>=1.32 (from prefect)\n",
            "  Downloading jsonpatch-1.33-py2.py3-none-any.whl (12 kB)\n",
            "Requirement already satisfied: jsonschema<5.0.0,>=3.2.0 in /usr/local/lib/python3.10/dist-packages (from prefect) (4.19.0)\n",
            "Collecting kubernetes>=24.2.0 (from prefect)\n",
            "  Downloading kubernetes-27.2.0-py2.py3-none-any.whl (1.5 MB)\n",
            "\u001b[2K     \u001b[90m━━━━━━━━━━━━━━━━━━━━━━━━━━━━━━━━━━━━━━━━\u001b[0m \u001b[32m1.5/1.5 MB\u001b[0m \u001b[31m26.3 MB/s\u001b[0m eta \u001b[36m0:00:00\u001b[0m\n",
            "\u001b[?25hCollecting orjson>=3.7 (from prefect)\n",
            "  Downloading orjson-3.9.5-cp310-cp310-manylinux_2_17_x86_64.manylinux2014_x86_64.whl (139 kB)\n",
            "\u001b[2K     \u001b[90m━━━━━━━━━━━━━━━━━━━━━━━━━━━━━━━━━━━━━━\u001b[0m \u001b[32m139.9/139.9 kB\u001b[0m \u001b[31m16.6 MB/s\u001b[0m eta \u001b[36m0:00:00\u001b[0m\n",
            "\u001b[?25hRequirement already satisfied: packaging>=21.3 in /usr/local/lib/python3.10/dist-packages (from prefect) (23.1)\n",
            "Collecting pathspec>=0.8.0 (from prefect)\n",
            "  Downloading pathspec-0.11.2-py3-none-any.whl (29 kB)\n",
            "Collecting pendulum>=2.1.2 (from prefect)\n",
            "  Downloading pendulum-2.1.2.tar.gz (81 kB)\n",
            "\u001b[2K     \u001b[90m━━━━━━━━━━━━━━━━━━━━━━━━━━━━━━━━━━━━━━━━\u001b[0m \u001b[32m81.2/81.2 kB\u001b[0m \u001b[31m10.1 MB/s\u001b[0m eta \u001b[36m0:00:00\u001b[0m\n",
            "\u001b[?25h  Installing build dependencies ... \u001b[?25l\u001b[?25hdone\n",
            "  Getting requirements to build wheel ... \u001b[?25l\u001b[?25hdone\n",
            "  Preparing metadata (pyproject.toml) ... \u001b[?25l\u001b[?25hdone\n",
            "Collecting pydantic<2.0.0,>=1.10.0 (from prefect)\n",
            "  Downloading pydantic-1.10.12-cp310-cp310-manylinux_2_17_x86_64.manylinux2014_x86_64.whl (3.1 MB)\n",
            "\u001b[2K     \u001b[90m━━━━━━━━━━━━━━━━━━━━━━━━━━━━━━━━━━━━━━━━\u001b[0m \u001b[32m3.1/3.1 MB\u001b[0m \u001b[31m32.7 MB/s\u001b[0m eta \u001b[36m0:00:00\u001b[0m\n",
            "\u001b[?25hRequirement already satisfied: python-slugify>=5.0 in /usr/local/lib/python3.10/dist-packages (from prefect) (8.0.1)\n",
            "Requirement already satisfied: pytz>=2021.1 in /usr/local/lib/python3.10/dist-packages (from prefect) (2023.3)\n",
            "Requirement already satisfied: pyyaml>=5.4.1 in /usr/local/lib/python3.10/dist-packages (from prefect) (6.0.1)\n",
            "Collecting readchar>=4.0.0 (from prefect)\n",
            "  Downloading readchar-4.0.5-py3-none-any.whl (8.5 kB)\n",
            "Requirement already satisfied: rich>=11.0 in /usr/local/lib/python3.10/dist-packages (from prefect) (13.5.2)\n",
            "Collecting ruamel-yaml>=0.17.0 (from prefect)\n",
            "  Downloading ruamel.yaml-0.17.32-py3-none-any.whl (112 kB)\n",
            "\u001b[2K     \u001b[90m━━━━━━━━━━━━━━━━━━━━━━━━━━━━━━━━━━━━━━\u001b[0m \u001b[32m112.2/112.2 kB\u001b[0m \u001b[31m14.0 MB/s\u001b[0m eta \u001b[36m0:00:00\u001b[0m\n",
            "\u001b[?25hRequirement already satisfied: sqlalchemy[asyncio]!=1.4.33,>=1.4.22 in /usr/local/lib/python3.10/dist-packages (from prefect) (2.0.20)\n",
            "Requirement already satisfied: toml>=0.10.0 in /usr/local/lib/python3.10/dist-packages (from prefect) (0.10.2)\n",
            "Requirement already satisfied: typer>=0.4.2 in /usr/local/lib/python3.10/dist-packages (from prefect) (0.9.0)\n",
            "Requirement already satisfied: typing-extensions>=4.1.0 in /usr/local/lib/python3.10/dist-packages (from prefect) (4.7.1)\n",
            "Collecting uvicorn>=0.14.0 (from prefect)\n",
            "  Downloading uvicorn-0.23.2-py3-none-any.whl (59 kB)\n",
            "\u001b[2K     \u001b[90m━━━━━━━━━━━━━━━━━━━━━━━━━━━━━━━━━━━━━━━━\u001b[0m \u001b[32m59.5/59.5 kB\u001b[0m \u001b[31m8.0 MB/s\u001b[0m eta \u001b[36m0:00:00\u001b[0m\n",
            "\u001b[?25hCollecting websockets>=10.4 (from prefect)\n",
            "  Downloading websockets-11.0.3-cp310-cp310-manylinux_2_5_x86_64.manylinux1_x86_64.manylinux_2_17_x86_64.manylinux2014_x86_64.whl (129 kB)\n",
            "\u001b[2K     \u001b[90m━━━━━━━━━━━━━━━━━━━━━━━━━━━━━━━━━━━━━━\u001b[0m \u001b[32m129.9/129.9 kB\u001b[0m \u001b[31m12.3 MB/s\u001b[0m eta \u001b[36m0:00:00\u001b[0m\n",
            "\u001b[?25hCollecting Mako (from alembic>=1.7.5->prefect)\n",
            "  Downloading Mako-1.2.4-py3-none-any.whl (78 kB)\n",
            "\u001b[2K     \u001b[90m━━━━━━━━━━━━━━━━━━━━━━━━━━━━━━━━━━━━━━━━\u001b[0m \u001b[32m78.7/78.7 kB\u001b[0m \u001b[31m10.1 MB/s\u001b[0m eta \u001b[36m0:00:00\u001b[0m\n",
            "\u001b[?25hRequirement already satisfied: idna>=2.8 in /usr/local/lib/python3.10/dist-packages (from anyio>=3.4.0->prefect) (3.4)\n",
            "Requirement already satisfied: sniffio>=1.1 in /usr/local/lib/python3.10/dist-packages (from anyio>=3.4.0->prefect) (1.3.0)\n",
            "Requirement already satisfied: exceptiongroup in /usr/local/lib/python3.10/dist-packages (from anyio>=3.4.0->prefect) (1.1.3)\n",
            "Requirement already satisfied: certifi in /usr/local/lib/python3.10/dist-packages (from apprise>=1.1.0->prefect) (2023.7.22)\n",
            "Requirement already satisfied: requests in /usr/local/lib/python3.10/dist-packages (from apprise>=1.1.0->prefect) (2.31.0)\n",
            "Requirement already satisfied: requests-oauthlib in /usr/local/lib/python3.10/dist-packages (from apprise>=1.1.0->prefect) (1.3.1)\n",
            "Requirement already satisfied: markdown in /usr/local/lib/python3.10/dist-packages (from apprise>=1.1.0->prefect) (3.4.4)\n",
            "Requirement already satisfied: python-dateutil in /usr/local/lib/python3.10/dist-packages (from croniter>=1.0.12->prefect) (2.8.2)\n",
            "Requirement already satisfied: cffi>=1.12 in /usr/local/lib/python3.10/dist-packages (from cryptography>=36.0.1->prefect) (1.15.1)\n",
            "Requirement already satisfied: regex!=2019.02.19,!=2021.8.27 in /usr/local/lib/python3.10/dist-packages (from dateparser>=1.1.1->prefect) (2023.6.3)\n",
            "Requirement already satisfied: tzlocal in /usr/local/lib/python3.10/dist-packages (from dateparser>=1.1.1->prefect) (5.0.1)\n",
            "Requirement already satisfied: urllib3>=1.26.0 in /usr/local/lib/python3.10/dist-packages (from docker>=4.0->prefect) (2.0.4)\n",
            "Requirement already satisfied: websocket-client>=0.32.0 in /usr/local/lib/python3.10/dist-packages (from docker>=4.0->prefect) (1.6.1)\n",
            "Collecting starlette<0.28.0,>=0.27.0 (from fastapi>=0.93->prefect)\n",
            "  Downloading starlette-0.27.0-py3-none-any.whl (66 kB)\n",
            "\u001b[2K     \u001b[90m━━━━━━━━━━━━━━━━━━━━━━━━━━━━━━━━━━━━━━━━\u001b[0m \u001b[32m67.0/67.0 kB\u001b[0m \u001b[31m8.9 MB/s\u001b[0m eta \u001b[36m0:00:00\u001b[0m\n",
            "\u001b[?25hCollecting colorama>=0.4 (from griffe>=0.20.0->prefect)\n",
            "  Downloading colorama-0.4.6-py2.py3-none-any.whl (25 kB)\n",
            "Collecting httpcore<0.18.0,>=0.15.0 (from httpx[http2]!=0.23.2,>=0.23->prefect)\n",
            "  Downloading httpcore-0.17.3-py3-none-any.whl (74 kB)\n",
            "\u001b[2K     \u001b[90m━━━━━━━━━━━━━━━━━━━━━━━━━━━━━━━━━━━━━━━━\u001b[0m \u001b[32m74.5/74.5 kB\u001b[0m \u001b[31m8.6 MB/s\u001b[0m eta \u001b[36m0:00:00\u001b[0m\n",
            "\u001b[?25hCollecting h2<5,>=3 (from httpx[http2]!=0.23.2,>=0.23->prefect)\n",
            "  Downloading h2-4.1.0-py3-none-any.whl (57 kB)\n",
            "\u001b[2K     \u001b[90m━━━━━━━━━━━━━━━━━━━━━━━━━━━━━━━━━━━━━━━━\u001b[0m \u001b[32m57.5/57.5 kB\u001b[0m \u001b[31m7.1 MB/s\u001b[0m eta \u001b[36m0:00:00\u001b[0m\n",
            "\u001b[?25hRequirement already satisfied: MarkupSafe>=2.0 in /usr/local/lib/python3.10/dist-packages (from jinja2>=3.0.0->prefect) (2.1.3)\n",
            "Collecting jsonpointer>=1.9 (from jsonpatch>=1.32->prefect)\n",
            "  Downloading jsonpointer-2.4-py2.py3-none-any.whl (7.8 kB)\n",
            "Requirement already satisfied: attrs>=22.2.0 in /usr/local/lib/python3.10/dist-packages (from jsonschema<5.0.0,>=3.2.0->prefect) (23.1.0)\n",
            "Requirement already satisfied: jsonschema-specifications>=2023.03.6 in /usr/local/lib/python3.10/dist-packages (from jsonschema<5.0.0,>=3.2.0->prefect) (2023.7.1)\n",
            "Requirement already satisfied: referencing>=0.28.4 in /usr/local/lib/python3.10/dist-packages (from jsonschema<5.0.0,>=3.2.0->prefect) (0.30.2)\n",
            "Requirement already satisfied: rpds-py>=0.7.1 in /usr/local/lib/python3.10/dist-packages (from jsonschema<5.0.0,>=3.2.0->prefect) (0.9.2)\n",
            "Requirement already satisfied: six>=1.9.0 in /usr/local/lib/python3.10/dist-packages (from kubernetes>=24.2.0->prefect) (1.16.0)\n",
            "Requirement already satisfied: google-auth>=1.0.1 in /usr/local/lib/python3.10/dist-packages (from kubernetes>=24.2.0->prefect) (2.17.3)\n",
            "Requirement already satisfied: oauthlib>=3.2.2 in /usr/local/lib/python3.10/dist-packages (from kubernetes>=24.2.0->prefect) (3.2.2)\n",
            "Collecting pytzdata>=2020.1 (from pendulum>=2.1.2->prefect)\n",
            "  Downloading pytzdata-2020.1-py2.py3-none-any.whl (489 kB)\n",
            "\u001b[2K     \u001b[90m━━━━━━━━━━━━━━━━━━━━━━━━━━━━━━━━━━━━━━\u001b[0m \u001b[32m490.0/490.0 kB\u001b[0m \u001b[31m36.7 MB/s\u001b[0m eta \u001b[36m0:00:00\u001b[0m\n",
            "\u001b[?25hRequirement already satisfied: text-unidecode>=1.3 in /usr/local/lib/python3.10/dist-packages (from python-slugify>=5.0->prefect) (1.3)\n",
            "Requirement already satisfied: setuptools>=41.0 in /usr/local/lib/python3.10/dist-packages (from readchar>=4.0.0->prefect) (67.7.2)\n",
            "Requirement already satisfied: markdown-it-py>=2.2.0 in /usr/local/lib/python3.10/dist-packages (from rich>=11.0->prefect) (3.0.0)\n",
            "Requirement already satisfied: pygments<3.0.0,>=2.13.0 in /usr/local/lib/python3.10/dist-packages (from rich>=11.0->prefect) (2.16.1)\n",
            "Collecting ruamel.yaml.clib>=0.2.7 (from ruamel-yaml>=0.17.0->prefect)\n",
            "  Downloading ruamel.yaml.clib-0.2.7-cp310-cp310-manylinux_2_17_x86_64.manylinux2014_x86_64.manylinux_2_24_x86_64.whl (485 kB)\n",
            "\u001b[2K     \u001b[90m━━━━━━━━━━━━━━━━━━━━━━━━━━━━━━━━━━━━━━\u001b[0m \u001b[32m485.6/485.6 kB\u001b[0m \u001b[31m37.5 MB/s\u001b[0m eta \u001b[36m0:00:00\u001b[0m\n",
            "\u001b[?25hRequirement already satisfied: greenlet!=0.4.17 in /usr/local/lib/python3.10/dist-packages (from sqlalchemy[asyncio]!=1.4.33,>=1.4.22->prefect) (2.0.2)\n",
            "Collecting h11>=0.8 (from uvicorn>=0.14.0->prefect)\n",
            "  Downloading h11-0.14.0-py3-none-any.whl (58 kB)\n",
            "\u001b[2K     \u001b[90m━━━━━━━━━━━━━━━━━━━━━━━━━━━━━━━━━━━━━━━━\u001b[0m \u001b[32m58.3/58.3 kB\u001b[0m \u001b[31m7.0 MB/s\u001b[0m eta \u001b[36m0:00:00\u001b[0m\n",
            "\u001b[?25hRequirement already satisfied: pycparser in /usr/local/lib/python3.10/dist-packages (from cffi>=1.12->cryptography>=36.0.1->prefect) (2.21)\n",
            "Requirement already satisfied: cachetools<6.0,>=2.0.0 in /usr/local/lib/python3.10/dist-packages (from google-auth>=1.0.1->kubernetes>=24.2.0->prefect) (5.3.1)\n",
            "Requirement already satisfied: pyasn1-modules>=0.2.1 in /usr/local/lib/python3.10/dist-packages (from google-auth>=1.0.1->kubernetes>=24.2.0->prefect) (0.3.0)\n",
            "Requirement already satisfied: rsa<5,>=3.1.4 in /usr/local/lib/python3.10/dist-packages (from google-auth>=1.0.1->kubernetes>=24.2.0->prefect) (4.9)\n",
            "Collecting hyperframe<7,>=6.0 (from h2<5,>=3->httpx[http2]!=0.23.2,>=0.23->prefect)\n",
            "  Downloading hyperframe-6.0.1-py3-none-any.whl (12 kB)\n",
            "Collecting hpack<5,>=4.0 (from h2<5,>=3->httpx[http2]!=0.23.2,>=0.23->prefect)\n",
            "  Downloading hpack-4.0.0-py3-none-any.whl (32 kB)\n",
            "Requirement already satisfied: mdurl~=0.1 in /usr/local/lib/python3.10/dist-packages (from markdown-it-py>=2.2.0->rich>=11.0->prefect) (0.1.2)\n",
            "Requirement already satisfied: charset-normalizer<4,>=2 in /usr/local/lib/python3.10/dist-packages (from requests->apprise>=1.1.0->prefect) (3.2.0)\n",
            "Requirement already satisfied: pyasn1<0.6.0,>=0.4.6 in /usr/local/lib/python3.10/dist-packages (from pyasn1-modules>=0.2.1->google-auth>=1.0.1->kubernetes>=24.2.0->prefect) (0.5.0)\n",
            "Building wheels for collected packages: pendulum\n",
            "  Building wheel for pendulum (pyproject.toml) ... \u001b[?25l\u001b[?25hdone\n",
            "  Created wheel for pendulum: filename=pendulum-2.1.2-cp310-cp310-manylinux_2_35_x86_64.whl size=158451 sha256=3de6d6e08ce8b1b542aa3e1700deb53a61648609876918079485aeaa6e0889de\n",
            "  Stored in directory: /root/.cache/pip/wheels/2e/41/ed/f113e4c9dc10f6c846d69f412e9cd9aa429960a3e2e485a4f9\n",
            "Successfully built pendulum\n",
            "Installing collected packages: coolname, websockets, ruamel.yaml.clib, readchar, pytzdata, pydantic, pathspec, orjson, Mako, jsonpointer, hyperframe, hpack, h11, colorama, asyncpg, asgi-lifespan, aiosqlite, uvicorn, starlette, ruamel-yaml, pendulum, jsonpatch, httpcore, h2, griffe, docker, dateparser, croniter, alembic, kubernetes, httpx, fastapi, apprise, prefect\n",
            "  Attempting uninstall: pydantic\n",
            "    Found existing installation: pydantic 2.1.1\n",
            "    Uninstalling pydantic-2.1.1:\n",
            "      Successfully uninstalled pydantic-2.1.1\n",
            "Successfully installed Mako-1.2.4 aiosqlite-0.19.0 alembic-1.11.3 apprise-1.4.5 asgi-lifespan-2.1.0 asyncpg-0.28.0 colorama-0.4.6 coolname-2.2.0 croniter-1.4.1 dateparser-1.1.8 docker-6.1.3 fastapi-0.101.1 griffe-0.33.0 h11-0.14.0 h2-4.1.0 hpack-4.0.0 httpcore-0.17.3 httpx-0.24.1 hyperframe-6.0.1 jsonpatch-1.33 jsonpointer-2.4 kubernetes-27.2.0 orjson-3.9.5 pathspec-0.11.2 pendulum-2.1.2 prefect-2.11.4 pydantic-1.10.12 pytzdata-2020.1 readchar-4.0.5 ruamel-yaml-0.17.32 ruamel.yaml.clib-0.2.7 starlette-0.27.0 uvicorn-0.23.2 websockets-11.0.3\n"
          ]
        }
      ],
      "source": [
        "pip install prefect"
      ]
    },
    {
      "cell_type": "code",
      "source": [
        "from prefect import flow\n",
        "\n",
        "@flow\n",
        "def prefect_flow():\n",
        "    message = \"This is a prefect flow\"\n",
        "    print(message)\n",
        "\n",
        "if __name__ == \"__main__\":\n",
        "    prefect_flow()"
      ],
      "metadata": {
        "id": "Q-xakTTiNpEV"
      },
      "execution_count": 3,
      "outputs": []
    },
    {
      "cell_type": "code",
      "source": [
        "!prefect server start"
      ],
      "metadata": {
        "id": "b8hsDUE0NqZC"
      },
      "execution_count": 4,
      "outputs": []
    },
    {
      "cell_type": "code",
      "source": [
        "!prefect config set PREFECT_API_URL=http://127.0.0.1:4200/api"
      ],
      "metadata": {
        "id": "SkzOg0buNtfc"
      },
      "execution_count": 5,
      "outputs": []
    },
    {
      "cell_type": "code",
      "source": [
        "from prefect import task, flow\n",
        "\n",
        "# Define tasks using the @task decorator\n",
        "@task(name=\"extract data\", log_prints=True, tags=\"extract\")\n",
        "def extract_data():\n",
        "    return [1, 2, 3, 4, 5]\n",
        "\n",
        "@task(name=\"transform data\", log_prints=True, tags=\"transform\")\n",
        "def transform_data(data):\n",
        "    return [x * 2 for x in data]\n",
        "\n",
        "@task(name=\"load data\", log_prints=True, tags=\"load\")\n",
        "def load_data(transformed_data):\n",
        "    print(\"Transformed Data:\", transformed_data)\n",
        "\n",
        "# Create a flow\n",
        "@flow(name=\"prefect flow\")\n",
        "def prefect_flow():\n",
        "    data = extract_data()\n",
        "    transformed = transform_data(data)\n",
        "    load_data(transformed)\n",
        "\n",
        "if __name__ == \"__main__\":\n",
        "    prefect_flow()"
      ],
      "metadata": {
        "id": "C90cPjwrNx-c"
      },
      "execution_count": 6,
      "outputs": []
    },
    {
      "cell_type": "code",
      "source": [
        "from prefect.deployments import Deployment\n",
        "from prefect.server.schemas.schedules import CronSchedule\n",
        "\n",
        "#import the tutorial script\n",
        "from tutorial import prefect_flow\n",
        "\n",
        "# prefect deployment\n",
        "dep_test = Deployment.build_from_flow(\n",
        "    flow=prefect_flow,\n",
        "    name=\"Prefect flow deployment\",\n",
        "    version=1,\n",
        "    schedule=(CronSchedule(cron=\"0 7 * * *\", timezone=\"Africa/Nairobi\")),\n",
        "    work_queue_name=\"development\",\n",
        "    work_pool_name=\"default-agent-pool\",\n",
        ")\n",
        "dep_test.apply()"
      ],
      "metadata": {
        "id": "VxZaP9riNznR"
      },
      "execution_count": 7,
      "outputs": []
    },
    {
      "cell_type": "code",
      "source": [
        "prefect agent start --pool default-agent-pool --work-queue development"
      ],
      "metadata": {
        "id": "ixK9OXQEN72X"
      },
      "execution_count": 9,
      "outputs": []
    }
  ]
}